{
 "cells": [
  {
   "cell_type": "code",
   "execution_count": 5,
   "metadata": {},
   "outputs": [],
   "source": [
    "import pandas as pd \n",
    "import string\n",
    "import numpy as np"
   ]
  },
  {
   "cell_type": "code",
   "execution_count": 6,
   "metadata": {},
   "outputs": [],
   "source": [
    "brands=pd.read_csv('brands.csv')\n",
    "categorys=pd.read_csv('category.csv')\n",
    "colors=pd.read_csv('color.csv')\n",
    "genders=pd.read_csv('gender.csv')\n",
    "materials=pd.read_csv('material.csv')"
   ]
  },
  {
   "cell_type": "code",
   "execution_count": 7,
   "metadata": {},
   "outputs": [],
   "source": [
    "brands=brands.iloc[:,0]\n",
    "brands=brands.tolist()\n",
    "categorys=categorys.iloc[:,0]\n",
    "categorys=categorys.tolist()\n",
    "colors=colors.iloc[:,0]\n",
    "colors=colors.tolist()\n",
    "genders=genders.iloc[:,0]\n",
    "genders=genders.tolist()\n",
    "materials=materials.iloc[:,0]\n",
    "materials=materials.tolist()"
   ]
  },
  {
   "cell_type": "code",
   "execution_count": 8,
   "metadata": {},
   "outputs": [],
   "source": [
    "brands=[str(item) for item in brands]\n",
    "categories=[str(item) for item in categorys]\n",
    "colors=[str(item) for item in colors]\n",
    "genders=[str(item) for item in genders]\n",
    "materials=[str(item) for item in materials]"
   ]
  },
  {
   "cell_type": "code",
   "execution_count": 9,
   "metadata": {},
   "outputs": [
    {
     "name": "stdout",
     "output_type": "stream",
     "text": [
      "446880\r"
     ]
    }
   ],
   "source": [
    "# List of brand names, categories, colors, and genders\n",
    "\n",
    "\n",
    "# Initialize spell checker\n",
    "\n",
    "# Function to generate training data\n",
    "def generate_training_data(brands, categories, colors, genders):\n",
    "    training_data = []\n",
    "    ittr=0\n",
    "  \n",
    "    for brand in brands:\n",
    "        for category in categories:\n",
    "            for color in colors:\n",
    "                for gender in genders:\n",
    "                    for material in materials:\n",
    "\n",
    "                        searched_product = f\" {brand} {material} {category} {color} {gender}\"\n",
    "                        result_product = f\"{brand} {material} {category} {color} {gender}\"\n",
    "                        relevance = 4  # Perfect\n",
    "                        training_data.append((searched_product, result_product, relevance))\n",
    "                        result_product =  f\"{np.random.choice(brands)} {material} {category} {color} {gender}\"\n",
    "                        relevance = 2  # Good\n",
    "                        training_data.append((searched_product, result_product, relevance))\n",
    "                        result_product =  f\"{np.random.choice(brands)} {material} {category} {color} {np.random.choice(genders)}\"\n",
    "                        relevance = 1  # Fair\n",
    "                        training_data.append((searched_product, result_product, relevance))\n",
    "                        result_product = f\"{np.random.choice(brands)} {material} {np.random.choice(categories)} {np.random.choice(colors)} {np.random.choice(genders)}\"\n",
    "                        relevance = 0  # Poor\n",
    "                        training_data.append((searched_product, result_product, relevance))\n",
    "                        ittr=ittr+1\n",
    "                        print(ittr,end='\\r')\n",
    "    return training_data\n",
    "\n",
    "# Generate training data\n",
    "training_data = generate_training_data(brands, categories, colors, genders)\n",
    "df = pd.DataFrame(training_data, columns=[\"Searched Product\", \"Result Product\", \"Relevance\"])\n"
   ]
  },
  {
   "attachments": {},
   "cell_type": "markdown",
   "metadata": {},
   "source": [
    "till now its just to generate  446880 data points and saving it to csv not useful to run every time"
   ]
  },
  {
   "cell_type": "code",
   "execution_count": 10,
   "metadata": {},
   "outputs": [],
   "source": [
    "df.to_csv('generated_data.csv',index=False)"
   ]
  }
 ],
 "metadata": {
  "kernelspec": {
   "display_name": "Python 3",
   "language": "python",
   "name": "python3"
  },
  "language_info": {
   "codemirror_mode": {
    "name": "ipython",
    "version": 3
   },
   "file_extension": ".py",
   "mimetype": "text/x-python",
   "name": "python",
   "nbconvert_exporter": "python",
   "pygments_lexer": "ipython3",
   "version": "3.10.6"
  },
  "orig_nbformat": 4,
  "vscode": {
   "interpreter": {
    "hash": "916dbcbb3f70747c44a77c7bcd40155683ae19c65e1c03b4aa3499c5328201f1"
   }
  }
 },
 "nbformat": 4,
 "nbformat_minor": 2
}
