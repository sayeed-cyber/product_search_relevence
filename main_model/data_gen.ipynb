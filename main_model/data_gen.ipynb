{
 "cells": [
  {
   "cell_type": "code",
   "execution_count": 1,
   "metadata": {},
   "outputs": [],
   "source": [
    "import pandas as pd \n",
    "import string\n",
    "import numpy as np"
   ]
  },
  {
   "cell_type": "code",
   "execution_count": 9,
   "metadata": {},
   "outputs": [],
   "source": [
    "brands=pd.read_csv('/Users/sayeedkhan/Desktop/product_search_relevence/small_csv/brands.csv')\n",
    "categorys=pd.read_csv('/Users/sayeedkhan/Desktop/product_search_relevence/small_csv/category.csv')\n",
    "colors=pd.read_csv('/Users/sayeedkhan/Desktop/product_search_relevence/small_csv/color.csv')\n",
    "genders=pd.read_csv('/Users/sayeedkhan/Desktop/product_search_relevence/small_csv/gender.csv')\n",
    "materials=pd.read_csv('/Users/sayeedkhan/Desktop/product_search_relevence/small_csv/material.csv')"
   ]
  },
  {
   "cell_type": "code",
   "execution_count": 10,
   "metadata": {},
   "outputs": [],
   "source": [
    "brands=brands.iloc[:,0]\n",
    "brands=brands.tolist()\n",
    "categorys=categorys.iloc[:,0]\n",
    "categorys=categorys.tolist()\n",
    "colors=colors.iloc[:,0]\n",
    "colors=colors.tolist()\n",
    "genders=genders.iloc[:,0]\n",
    "genders=genders.tolist()\n",
    "materials=materials.iloc[:,0]\n",
    "materials=materials.tolist()"
   ]
  },
  {
   "cell_type": "code",
   "execution_count": 11,
   "metadata": {},
   "outputs": [],
   "source": [
    "brands=[str(item) for item in brands]\n",
    "categories=[str(item) for item in categorys]\n",
    "colors=[str(item) for item in colors]\n",
    "genders=[str(item) for item in genders]\n",
    "materials=[str(item) for item in materials]"
   ]
  },
  {
   "cell_type": "code",
   "execution_count": 12,
   "metadata": {},
   "outputs": [
    {
     "name": "stdout",
     "output_type": "stream",
     "text": [
      "446880\r"
     ]
    }
   ],
   "source": [
    "# List of brand names, categories, colors, and genders\n",
    "\n",
    "\n",
    "# Initialize spell checker\n",
    "\n",
    "# Function to generate training data\n",
    "def generate_training_data(brands, categories, colors, genders):\n",
    "    training_data = []\n",
    "    ittr=0\n",
    "  \n",
    "    for brand in brands:\n",
    "        for category in categories:\n",
    "            for color in colors:\n",
    "                for gender in genders:\n",
    "                    for material in materials:\n",
    "\n",
    "                        searched_product = f\" {brand} {material} {category} {color} {gender}\"\n",
    "                        result_product = f\"{brand} {material} {category} {color} {gender}\"\n",
    "                        relevance = 4  # Perfect\n",
    "                        training_data.append((searched_product, result_product, relevance))\n",
    "                        result_product =  f\"{np.random.choice(brands)} {material} {category} {color} {gender}\"\n",
    "                        relevance = 2  # Good\n",
    "                        training_data.append((searched_product, result_product, relevance))\n",
    "                        result_product =  f\"{np.random.choice(brands)} {material} {category} {color} {np.random.choice(genders)}\"\n",
    "                        relevance = 1  # Fair\n",
    "                        training_data.append((searched_product, result_product, relevance))\n",
    "                        result_product = f\"{np.random.choice(brands)} {material} {np.random.choice(categories)} {np.random.choice(colors)} {np.random.choice(genders)}\"\n",
    "                        relevance = 0  # Poor\n",
    "                        training_data.append((searched_product, result_product, relevance))\n",
    "                        ittr=ittr+1\n",
    "                        print(ittr,end='\\r')\n",
    "    return training_data\n",
    "\n",
    "# Generate training data\n",
    "training_data = generate_training_data(brands, categories, colors, genders)\n",
    "df = pd.DataFrame(training_data, columns=[\"Searched Product\", \"Result Product\", \"Relevance\"])\n"
   ]
  },
  {
   "attachments": {},
   "cell_type": "markdown",
   "metadata": {},
   "source": [
    "till now its just to generate  446880 data points and saving it to csv not useful to run every time"
   ]
  },
  {
   "cell_type": "code",
   "execution_count": 13,
   "metadata": {},
   "outputs": [],
   "source": [
    "df.to_csv('generated_data.csv',index=False)"
   ]
  },
  {
   "cell_type": "code",
   "execution_count": 15,
   "metadata": {},
   "outputs": [
    {
     "data": {
      "text/html": [
       "<div>\n",
       "<style scoped>\n",
       "    .dataframe tbody tr th:only-of-type {\n",
       "        vertical-align: middle;\n",
       "    }\n",
       "\n",
       "    .dataframe tbody tr th {\n",
       "        vertical-align: top;\n",
       "    }\n",
       "\n",
       "    .dataframe thead th {\n",
       "        text-align: right;\n",
       "    }\n",
       "</style>\n",
       "<table border=\"1\" class=\"dataframe\">\n",
       "  <thead>\n",
       "    <tr style=\"text-align: right;\">\n",
       "      <th></th>\n",
       "      <th>Searched Product</th>\n",
       "      <th>Result Product</th>\n",
       "      <th>Relevance</th>\n",
       "    </tr>\n",
       "  </thead>\n",
       "  <tbody>\n",
       "    <tr>\n",
       "      <th>0</th>\n",
       "      <td>dkny Polyester top black women</td>\n",
       "      <td>dkny Polyester top black women</td>\n",
       "      <td>4</td>\n",
       "    </tr>\n",
       "    <tr>\n",
       "      <th>1</th>\n",
       "      <td>dkny Polyester top black women</td>\n",
       "      <td>parfait Polyester top black women</td>\n",
       "      <td>2</td>\n",
       "    </tr>\n",
       "    <tr>\n",
       "      <th>2</th>\n",
       "      <td>dkny Polyester top black women</td>\n",
       "      <td>asics Polyester top black girls</td>\n",
       "      <td>1</td>\n",
       "    </tr>\n",
       "    <tr>\n",
       "      <th>3</th>\n",
       "      <td>dkny Polyester top black women</td>\n",
       "      <td>police Polyester a-line kurta pink women</td>\n",
       "      <td>0</td>\n",
       "    </tr>\n",
       "    <tr>\n",
       "      <th>4</th>\n",
       "      <td>dkny cotton top black women</td>\n",
       "      <td>dkny cotton top black women</td>\n",
       "      <td>4</td>\n",
       "    </tr>\n",
       "    <tr>\n",
       "      <th>...</th>\n",
       "      <td>...</td>\n",
       "      <td>...</td>\n",
       "      <td>...</td>\n",
       "    </tr>\n",
       "    <tr>\n",
       "      <th>1787515</th>\n",
       "      <td>alcis polyester treggings sea green girls</td>\n",
       "      <td>showoff polyester dupatta yellow girls</td>\n",
       "      <td>0</td>\n",
       "    </tr>\n",
       "    <tr>\n",
       "      <th>1787516</th>\n",
       "      <td>alcis Liva treggings sea green girls</td>\n",
       "      <td>alcis Liva treggings sea green girls</td>\n",
       "      <td>4</td>\n",
       "    </tr>\n",
       "    <tr>\n",
       "      <th>1787517</th>\n",
       "      <td>alcis Liva treggings sea green girls</td>\n",
       "      <td>showoff Liva treggings sea green girls</td>\n",
       "      <td>2</td>\n",
       "    </tr>\n",
       "    <tr>\n",
       "      <th>1787518</th>\n",
       "      <td>alcis Liva treggings sea green girls</td>\n",
       "      <td>alcis Liva treggings sea green women</td>\n",
       "      <td>1</td>\n",
       "    </tr>\n",
       "    <tr>\n",
       "      <th>1787519</th>\n",
       "      <td>alcis Liva treggings sea green girls</td>\n",
       "      <td>ethnovogue Liva kurta with pyjamas green boys</td>\n",
       "      <td>0</td>\n",
       "    </tr>\n",
       "  </tbody>\n",
       "</table>\n",
       "<p>1787520 rows × 3 columns</p>\n",
       "</div>"
      ],
      "text/plain": [
       "                                   Searched Product  \\\n",
       "0                    dkny Polyester top black women   \n",
       "1                    dkny Polyester top black women   \n",
       "2                    dkny Polyester top black women   \n",
       "3                    dkny Polyester top black women   \n",
       "4                       dkny cotton top black women   \n",
       "...                                             ...   \n",
       "1787515   alcis polyester treggings sea green girls   \n",
       "1787516        alcis Liva treggings sea green girls   \n",
       "1787517        alcis Liva treggings sea green girls   \n",
       "1787518        alcis Liva treggings sea green girls   \n",
       "1787519        alcis Liva treggings sea green girls   \n",
       "\n",
       "                                        Result Product  Relevance  \n",
       "0                       dkny Polyester top black women          4  \n",
       "1                    parfait Polyester top black women          2  \n",
       "2                      asics Polyester top black girls          1  \n",
       "3             police Polyester a-line kurta pink women          0  \n",
       "4                          dkny cotton top black women          4  \n",
       "...                                                ...        ...  \n",
       "1787515         showoff polyester dupatta yellow girls          0  \n",
       "1787516           alcis Liva treggings sea green girls          4  \n",
       "1787517         showoff Liva treggings sea green girls          2  \n",
       "1787518           alcis Liva treggings sea green women          1  \n",
       "1787519  ethnovogue Liva kurta with pyjamas green boys          0  \n",
       "\n",
       "[1787520 rows x 3 columns]"
      ]
     },
     "execution_count": 15,
     "metadata": {},
     "output_type": "execute_result"
    }
   ],
   "source": [
    "df"
   ]
  },
  {
   "cell_type": "code",
   "execution_count": null,
   "metadata": {},
   "outputs": [],
   "source": []
  }
 ],
 "metadata": {
  "kernelspec": {
   "display_name": "Python 3",
   "language": "python",
   "name": "python3"
  },
  "language_info": {
   "codemirror_mode": {
    "name": "ipython",
    "version": 3
   },
   "file_extension": ".py",
   "mimetype": "text/x-python",
   "name": "python",
   "nbconvert_exporter": "python",
   "pygments_lexer": "ipython3",
   "version": "3.9.6"
  },
  "orig_nbformat": 4,
  "vscode": {
   "interpreter": {
    "hash": "916dbcbb3f70747c44a77c7bcd40155683ae19c65e1c03b4aa3499c5328201f1"
   }
  }
 },
 "nbformat": 4,
 "nbformat_minor": 2
}
