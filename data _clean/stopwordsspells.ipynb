{
 "cells": [
  {
   "cell_type": "code",
   "execution_count": null,
   "metadata": {},
   "outputs": [],
   "source": [
    "def preprocess_text(text):\n",
    "    # remove special characters\n",
    "    text = text.translate(str.maketrans(\"\", \"\", string.punctuation))\n",
    "    # split the sentence into words\n",
    "    words = text.split()\n",
    "    # remove stopwords\n",
    "    stop_words = set(stopwords.words(\"english\"))\n",
    "    words = [word for word in words if not word in stop_words]\n",
    "    # join the words back into a sentence\n",
    "    text = \" \".join(words)\n",
    "    return text.lower()\n",
    "\n",
    "sentence = ' IMARA Women Black Solid Top'\n",
    "\n",
    "processed_sentence = preprocess_text(sentence)\n",
    "processed_sentence"
   ]
  }
 ],
 "metadata": {
  "language_info": {
   "name": "python"
  },
  "orig_nbformat": 4
 },
 "nbformat": 4,
 "nbformat_minor": 2
}
