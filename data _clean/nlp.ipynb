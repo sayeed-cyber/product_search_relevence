{
 "cells": [
  {
   "cell_type": "code",
   "execution_count": 9,
   "metadata": {},
   "outputs": [
    {
     "name": "stdout",
     "output_type": "stream",
     "text": [
      "{'company': 'biba', 'product': '', 'category': '', 'color': '', 'gender': ''}\n"
     ]
    }
   ],
   "source": [
    "import spacy\n",
    "\n",
    "nlp = spacy.load(\"en_core_web_sm\")\n",
    "\n",
    "def extract_info(text):\n",
    "  doc = nlp(text)\n",
    "\n",
    "  company = ''\n",
    "  product = ''\n",
    "  category = ''\n",
    "  color = ''\n",
    "  gender = ''\n",
    "\n",
    "  for ent in doc.ents:\n",
    "    if ent.label_ == \"ORG\":\n",
    "      company = ent.text\n",
    "    elif ent.label_ == \"PRODUCT\":\n",
    "      product = ent.text\n",
    "    elif ent.label_ == \"PRODUCT_TYPE\":\n",
    "      category = ent.text\n",
    "    elif ent.label_ == \"COLOR\":\n",
    "      color = ent.text\n",
    "    elif ent.label_ == \"GENDER\":\n",
    "      gender = ent.text\n",
    "\n",
    "  return {\n",
    "    \"company\": company,\n",
    "    \"product\": product,\n",
    "    \"category\": category,\n",
    "    \"color\": color,\n",
    "    \"gender\": gender\n",
    "  }\n",
    "\n",
    "text = \"biba shirt for men.\"\n",
    "\n",
    "info = extract_info(text)\n",
    "print(info)\n"
   ]
  },
  {
   "cell_type": "code",
   "execution_count": null,
   "metadata": {},
   "outputs": [],
   "source": []
  }
 ],
 "metadata": {
  "kernelspec": {
   "display_name": "Python 3",
   "language": "python",
   "name": "python3"
  },
  "language_info": {
   "codemirror_mode": {
    "name": "ipython",
    "version": 3
   },
   "file_extension": ".py",
   "mimetype": "text/x-python",
   "name": "python",
   "nbconvert_exporter": "python",
   "pygments_lexer": "ipython3",
   "version": "3.10.6"
  },
  "orig_nbformat": 4,
  "vscode": {
   "interpreter": {
    "hash": "916dbcbb3f70747c44a77c7bcd40155683ae19c65e1c03b4aa3499c5328201f1"
   }
  }
 },
 "nbformat": 4,
 "nbformat_minor": 2
}
