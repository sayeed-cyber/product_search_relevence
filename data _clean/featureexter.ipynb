{
 "cells": [
  {
   "cell_type": "code",
   "execution_count": 146,
   "metadata": {},
   "outputs": [],
   "source": [
    "import pandas as pd \n",
    "import string\n",
    "from nltk.corpus import stopwords\n",
    "\n"
   ]
  },
  {
   "cell_type": "code",
   "execution_count": 147,
   "metadata": {},
   "outputs": [],
   "source": [
    "brands=pd.read_csv('brands.csv').values\n",
    "categorys=pd.read_csv('category.csv').values\n",
    "colors=pd.read_csv('color.csv').values\n",
    "genders=pd.read_csv('gender.csv').values\n",
    "materials=pd.read_csv('material.csv').values\n"
   ]
  },
  {
   "cell_type": "code",
   "execution_count": 148,
   "metadata": {},
   "outputs": [
    {
     "data": {
      "text/plain": [
       "'imara women black solid top'"
      ]
     },
     "execution_count": 148,
     "metadata": {},
     "output_type": "execute_result"
    }
   ],
   "source": [
    "def preprocess_text(text):\n",
    "    # remove special characters\n",
    "    text = text.translate(str.maketrans(\"\", \"\", string.punctuation))\n",
    "    # split the sentence into words\n",
    "    words = text.split()\n",
    "    # remove stopwords\n",
    "    stop_words = set(stopwords.words(\"english\"))\n",
    "    words = [word for word in words if not word in stop_words]\n",
    "    # join the words back into a sentence\n",
    "    text = \" \".join(words)\n",
    "    return text.lower()\n",
    "\n",
    "sentence = ' IMARA Women Black Solid Top'\n",
    "\n",
    "processed_sentence = preprocess_text(sentence)\n",
    "processed_sentence"
   ]
  },
  {
   "cell_type": "code",
   "execution_count": 149,
   "metadata": {},
   "outputs": [
    {
     "name": "stdout",
     "output_type": "stream",
     "text": [
      "['imara women black', 'women black solid', 'black solid top']\n"
     ]
    }
   ],
   "source": [
    "def convert_to_trigrams(sentence):\n",
    "    sentence = sentence.replace(\",\", \"\")\n",
    "    words = sentence.split()\n",
    "    trigrams = []\n",
    "    for i in range(len(words) - 2):\n",
    "        trigram = \" \".join(words[i:i+3])\n",
    "        trigrams.append(trigram)\n",
    "    return trigrams\n",
    "trigrams = convert_to_trigrams(processed_sentence)\n",
    "print(trigrams)"
   ]
  },
  {
   "cell_type": "code",
   "execution_count": 150,
   "metadata": {},
   "outputs": [
    {
     "data": {
      "text/plain": [
       "{'category': None,\n",
       " 'brand': None,\n",
       " 'gender': 'women',\n",
       " 'features': ['imara', 'black', 'solid', 'top']}"
      ]
     },
     "execution_count": 150,
     "metadata": {},
     "output_type": "execute_result"
    }
   ],
   "source": [
    "def extract_product_info(product_text):\n",
    "    # Split the text into words\n",
    "    words = product_text.split()\n",
    "    \n",
    "    # Initialize the product dictionary\n",
    "    product = {\"category\": None,'brand':None,'gender':None, \"features\": []}\n",
    "    \n",
    "    # Loop through each word in the text\n",
    "    for word in words:\n",
    "        word=word.lower()\n",
    "        if word in categorys:\n",
    "            product[\"category\"] = word\n",
    "        elif word in brands:\n",
    "             product[\"brand\"] = word\n",
    "        elif word in ['unisex', 'women', 'men', 'boys', 'girls', 'unisex kids']:\n",
    "            product[\"gender\"] = word\n",
    "        else:\n",
    "            product[\"features\"].append(word)\n",
    "    \n",
    "    # Return the product dictionary\n",
    "    return product\n",
    "\n",
    "# Example usage\n",
    "extract_product_info(processed_sentence)\n",
    "\n",
    "#EthnoVogue Women Beige & Grey Made to Measure Custom Made Kurta Set with Jacket"
   ]
  },
  {
   "cell_type": "code",
   "execution_count": null,
   "metadata": {},
   "outputs": [],
   "source": [
    "def extract (product_text):\n",
    "    product = {\"category\": None,'brand':None,'gender':None, \"features\": []}\n",
    "\n",
    "    for i in categorys :\n",
    "        if i in product_text:\n",
    "            product['category']=i\n",
    "            "
   ]
  },
  {
   "cell_type": "code",
   "execution_count": null,
   "metadata": {},
   "outputs": [],
   "source": []
  },
  {
   "cell_type": "code",
   "execution_count": null,
   "metadata": {},
   "outputs": [],
   "source": []
  }
 ],
 "metadata": {
  "kernelspec": {
   "display_name": "Python 3",
   "language": "python",
   "name": "python3"
  },
  "language_info": {
   "codemirror_mode": {
    "name": "ipython",
    "version": 3
   },
   "file_extension": ".py",
   "mimetype": "text/x-python",
   "name": "python",
   "nbconvert_exporter": "python",
   "pygments_lexer": "ipython3",
   "version": "3.10.6"
  },
  "orig_nbformat": 4,
  "vscode": {
   "interpreter": {
    "hash": "916dbcbb3f70747c44a77c7bcd40155683ae19c65e1c03b4aa3499c5328201f1"
   }
  }
 },
 "nbformat": 4,
 "nbformat_minor": 2
}
