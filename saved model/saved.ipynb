{
 "cells": [
  {
   "cell_type": "code",
   "execution_count": 1,
   "metadata": {},
   "outputs": [
    {
     "name": "stderr",
     "output_type": "stream",
     "text": [
      "/Users/sayeedkhan/Library/Python/3.9/lib/python/site-packages/urllib3/__init__.py:35: NotOpenSSLWarning: urllib3 v2 only supports OpenSSL 1.1.1+, currently the 'ssl' module is compiled with 'LibreSSL 2.8.3'. See: https://github.com/urllib3/urllib3/issues/3020\n",
      "  warnings.warn(\n",
      "WARNING:absl:Compiled the loaded model, but the compiled metrics have yet to be built. `model.compile_metrics` will be empty until you train or evaluate the model.\n"
     ]
    }
   ],
   "source": [
    "from tensorflow.keras.models import load_model\n",
    "from sklearn.feature_extraction.text import TfidfVectorizer\n",
    "import joblib\n",
    "\n",
    "# Define custom loss function\n",
    "def mse(y_true, y_pred):\n",
    "    return tf.keras.losses.mean_squared_error(y_true, y_pred)\n",
    "\n",
    "# Load the model with custom loss function\n",
    "loaded_model = load_model('/Users/sayeedkhan/Desktop/product_search_relevence/saved model/your_model_name.h5', custom_objects={'mse': mse})\n",
    "\n",
    "# Load the TF-IDF vectorizers\n",
    "tfidf_search = joblib.load('/Users/sayeedkhan/Desktop/product_search_relevence/saved model/tfidf_search.pkl')\n",
    "tfidf_result = joblib.load('/Users/sayeedkhan/Desktop/product_search_relevence/saved model/tfidf_result.pkl')\n",
    "\n"
   ]
  },
  {
   "cell_type": "code",
   "execution_count": 15,
   "metadata": {},
   "outputs": [
    {
     "name": "stdout",
     "output_type": "stream",
     "text": [
      "\u001b[1m1/1\u001b[0m \u001b[32m━━━━━━━━━━━━━━━━━━━━\u001b[0m\u001b[37m\u001b[0m \u001b[1m0s\u001b[0m 56ms/step\n",
      "Predicted relevance score: 1.0467253\n"
     ]
    }
   ],
   "source": [
    "# Example query\n",
    "example_query_search = \"dkny Polyester top black women men\"\n",
    "example_query_result = \"dkny cotton ttt bbb wwww men\"\n",
    "\n",
    "# Preprocess the example query\n",
    "example_query_search_tfidf = tfidf_search.transform([example_query_search])\n",
    "example_query_result_tfidf = tfidf_result.transform([example_query_result])\n",
    "\n",
    "# Predict with the loaded model\n",
    "prediction = loaded_model.predict([example_query_search_tfidf, example_query_result_tfidf])\n",
    "\n",
    "print(\"Predicted relevance score:\", prediction[0][0])\n"
   ]
  },
  {
   "cell_type": "code",
   "execution_count": 14,
   "metadata": {},
   "outputs": [
    {
     "name": "stdout",
     "output_type": "stream",
     "text": [
      "  (0, 17)\t0.5132556498628235\n",
      "  (0, 18)\t0.7280937607529107\n",
      "  (0, 44)\t0.4543656164770548\n"
     ]
    }
   ],
   "source": [
    "print(example_query_result_tfidf)\n"
   ]
  },
  {
   "cell_type": "code",
   "execution_count": 12,
   "metadata": {},
   "outputs": [
    {
     "name": "stdout",
     "output_type": "stream",
     "text": [
      "  (0, 6)\t0.4629546285747317\n",
      "  (0, 18)\t0.5318301024983473\n",
      "  (0, 57)\t0.37500754669657616\n",
      "  (0, 73)\t0.501822126483378\n",
      "  (0, 83)\t0.33222529592152605\n"
     ]
    }
   ],
   "source": [
    "print(example_query_search_tfidf)"
   ]
  },
  {
   "cell_type": "code",
   "execution_count": null,
   "metadata": {},
   "outputs": [],
   "source": []
  }
 ],
 "metadata": {
  "kernelspec": {
   "display_name": "Python 3",
   "language": "python",
   "name": "python3"
  },
  "language_info": {
   "codemirror_mode": {
    "name": "ipython",
    "version": 3
   },
   "file_extension": ".py",
   "mimetype": "text/x-python",
   "name": "python",
   "nbconvert_exporter": "python",
   "pygments_lexer": "ipython3",
   "version": "3.9.6"
  },
  "orig_nbformat": 4
 },
 "nbformat": 4,
 "nbformat_minor": 2
}
